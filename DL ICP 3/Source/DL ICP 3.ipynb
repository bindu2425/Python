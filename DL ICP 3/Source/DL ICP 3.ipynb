{
 "cells": [
  {
   "cell_type": "code",
   "execution_count": 3,
   "metadata": {},
   "outputs": [],
   "source": [
    "from keras.models import Sequential\n",
    "from keras import layers\n",
    "\n",
    "from keras.preprocessing.text import Tokenizer\n",
    "import pandas as pd\n",
    "from sklearn import preprocessing\n",
    "from sklearn.model_selection import train_test_split"
   ]
  },
  {
   "cell_type": "code",
   "execution_count": 4,
   "metadata": {},
   "outputs": [
    {
     "name": "stdout",
     "output_type": "stream",
     "text": [
      "   Unnamed: 0  type                                             review label  \\\n",
      "0           0  test  Once again Mr. Costner has dragged out a movie...   neg   \n",
      "1           1  test  This is an example of why the majority of acti...   neg   \n",
      "2           2  test  First of all I hate those moronic rappers, who...   neg   \n",
      "3           3  test  Not even the Beatles could write songs everyon...   neg   \n",
      "4           4  test  Brass pictures (movies is not a fitting word f...   neg   \n",
      "\n",
      "          file  \n",
      "0      0_2.txt  \n",
      "1  10000_4.txt  \n",
      "2  10001_1.txt  \n",
      "3  10002_3.txt  \n",
      "4  10003_3.txt  \n"
     ]
    }
   ],
   "source": [
    "df = pd.read_csv('imdb_master.csv',encoding='latin-1')\n",
    "print(df.head())\n",
    "sentences = df['review'].values\n",
    "pureSentences = sentences\n",
    "y = df['label'].values"
   ]
  },
  {
   "cell_type": "code",
   "execution_count": 5,
   "metadata": {},
   "outputs": [],
   "source": [
    "#tokenizing data\n",
    "tokenizer = Tokenizer(num_words=2000)\n",
    "tokenizer.fit_on_texts(sentences)"
   ]
  },
  {
   "cell_type": "code",
   "execution_count": 7,
   "metadata": {},
   "outputs": [],
   "source": [
    "#getting the vocabulary of data\n",
    "sentences = tokenizer.texts_to_matrix(sentences)"
   ]
  },
  {
   "cell_type": "code",
   "execution_count": 8,
   "metadata": {},
   "outputs": [
    {
     "name": "stdout",
     "output_type": "stream",
     "text": [
      "2000\n"
     ]
    }
   ],
   "source": [
    "import numpy as np\n",
    "le = preprocessing.LabelEncoder()\n",
    "y = le.fit_transform(y)\n",
    "X_train, X_test, y_train, y_test = train_test_split(sentences, y, test_size=0.25, random_state=1000)\n",
    "input_dim=np.prod(X_train.shape[1:])\n",
    "# Number of features\n",
    "print(input_dim)"
   ]
  },
  {
   "cell_type": "code",
   "execution_count": 9,
   "metadata": {},
   "outputs": [
    {
     "name": "stdout",
     "output_type": "stream",
     "text": [
      "Epoch 1/5\n",
      "293/293 [==============================] - 9s 31ms/step - loss: 0.8800 - acc: 0.5051 - val_loss: 0.8431 - val_acc: 0.5127\n",
      "Epoch 2/5\n",
      "293/293 [==============================] - 8s 27ms/step - loss: 0.7878 - acc: 0.5824 - val_loss: 0.8457 - val_acc: 0.5197\n",
      "Epoch 3/5\n",
      "293/293 [==============================] - 9s 30ms/step - loss: 0.6813 - acc: 0.6825 - val_loss: 0.8724 - val_acc: 0.5141\n",
      "Epoch 4/5\n",
      "293/293 [==============================] - 8s 26ms/step - loss: 0.4894 - acc: 0.8184 - val_loss: 0.9591 - val_acc: 0.5120\n",
      "Epoch 5/5\n",
      "293/293 [==============================] - 8s 26ms/step - loss: 0.2826 - acc: 0.9279 - val_loss: 1.0656 - val_acc: 0.5001\n"
     ]
    }
   ],
   "source": [
    "model = Sequential()\n",
    "model.add(layers.Dense(300, activation='relu',input_dim=input_dim))\n",
    "model.add(layers.Dense(3, activation='softmax'))\n",
    "model.compile(loss='sparse_categorical_crossentropy',optimizer='adam',metrics=['acc'])\n",
    "history=model.fit(X_train,y_train, epochs=5, verbose=True, validation_data=(X_test,y_test), batch_size=256)"
   ]
  },
  {
   "cell_type": "code",
   "execution_count": 10,
   "metadata": {},
   "outputs": [
    {
     "name": "stdout",
     "output_type": "stream",
     "text": [
      "176408\n",
      "2470\n"
     ]
    }
   ],
   "source": [
    "from keras.preprocessing.sequence import pad_sequences\n",
    "max_review_len= max([len(s.split()) for s in pureSentences])\n",
    "vocab_size= len(tokenizer.word_index)+1\n",
    "sentencesPre = tokenizer.texts_to_sequences(pureSentences)\n",
    "padded_docs= pad_sequences(sentencesPre,maxlen=max_review_len)\n",
    "le = preprocessing.LabelEncoder()\n",
    "y = le.fit_transform(y)\n",
    "X_train, X_test, y_train, y_test = train_test_split(padded_docs, y, test_size=0.25, random_state=1000)\n",
    "print(vocab_size)\n",
    "print(max_review_len)"
   ]
  },
  {
   "cell_type": "code",
   "execution_count": 11,
   "metadata": {},
   "outputs": [],
   "source": [
    "from keras.layers import Embedding, Flatten\n",
    "m = Sequential()\n",
    "m.add(Embedding(vocab_size, 50, input_length=max_review_len))\n",
    "m.add(Flatten())\n",
    "m.add(layers.Dense(300, activation='relu',input_dim=max_review_len))\n",
    "m.add(layers.Dense(3, activation='softmax'))\n",
    "m.compile(loss='sparse_categorical_crossentropy',optimizer='adam',metrics=['acc'])\n"
   ]
  },
  {
   "cell_type": "code",
   "execution_count": 12,
   "metadata": {},
   "outputs": [
    {
     "name": "stdout",
     "output_type": "stream",
     "text": [
      "Epoch 1/5\n",
      "293/293 [==============================] - 536s 2s/step - loss: 1.0552 - acc: 0.4861 - val_loss: 0.8626 - val_acc: 0.5018\n",
      "Epoch 2/5\n",
      "293/293 [==============================] - 742s 3s/step - loss: 0.8231 - acc: 0.5385 - val_loss: 0.8482 - val_acc: 0.4999\n",
      "Epoch 3/5\n",
      "293/293 [==============================] - 520s 2s/step - loss: 0.7362 - acc: 0.6332 - val_loss: 0.8736 - val_acc: 0.4967\n",
      "Epoch 4/5\n",
      "293/293 [==============================] - 437s 1s/step - loss: 0.5978 - acc: 0.7318 - val_loss: 0.9794 - val_acc: 0.4879\n",
      "Epoch 5/5\n",
      "293/293 [==============================] - 398s 1s/step - loss: 0.4465 - acc: 0.8179 - val_loss: 1.1488 - val_acc: 0.4840\n"
     ]
    }
   ],
   "source": [
    "history1=m.fit(X_train,y_train, epochs=5, verbose=True, validation_data=(X_test,y_test), batch_size=256)"
   ]
  },
  {
   "cell_type": "code",
   "execution_count": 13,
   "metadata": {},
   "outputs": [
    {
     "name": "stdout",
     "output_type": "stream",
     "text": [
      "Epoch 1/5\n",
      "34/34 [==============================] - 243s 7s/step - loss: 10.2244 - acc: 0.0588 - val_loss: 3.1557 - val_acc: 0.0537\n",
      "Epoch 2/5\n",
      "34/34 [==============================] - 234s 7s/step - loss: 2.9864 - acc: 0.0679 - val_loss: 2.9737 - val_acc: 0.0612\n",
      "Epoch 3/5\n",
      "34/34 [==============================] - 270s 8s/step - loss: 2.9446 - acc: 0.0692 - val_loss: 2.9763 - val_acc: 0.0806\n",
      "Epoch 4/5\n",
      "34/34 [==============================] - 293s 9s/step - loss: 2.8760 - acc: 0.0869 - val_loss: 2.8451 - val_acc: 0.0877\n",
      "Epoch 5/5\n",
      "34/34 [==============================] - 319s 9s/step - loss: 2.7397 - acc: 0.1068 - val_loss: 2.6963 - val_acc: 0.1248\n"
     ]
    }
   ],
   "source": [
    "from sklearn.datasets import fetch_20newsgroups\n",
    "from keras.preprocessing.text import Tokenizer\n",
    "import numpy as np\n",
    "twenty_train = fetch_20newsgroups(subset='train', shuffle=True)\n",
    "sentences= twenty_train.data\n",
    "y=twenty_train.target\n",
    "\n",
    "tokenizer = Tokenizer(num_words=2000)\n",
    "tokenizer.fit_on_texts(sentences)\n",
    "# sentences = tokenizer.texts_to_matrix(sentences)\n",
    "\n",
    "from keras.preprocessing.sequence import pad_sequences\n",
    "max_review_len= max([len(s.split()) for s in sentences])\n",
    "vocab_size= len(tokenizer.word_index)+1\n",
    "sentencesPre = tokenizer.texts_to_sequences(sentences)\n",
    "padded_docs= pad_sequences(sentencesPre,maxlen=max_review_len)\n",
    "X_train, X_test, y_train, y_test = train_test_split(padded_docs, y, test_size=0.25, random_state=1000)\n",
    "\n",
    "from keras.layers import Embedding, Flatten\n",
    "n = Sequential()\n",
    "n.add(Embedding(vocab_size, 50, input_length=max_review_len))\n",
    "n.add(Flatten())\n",
    "n.add(layers.Dense(300, activation='relu',input_dim=max_review_len))\n",
    "n.add(layers.Dense(20, activation='softmax'))\n",
    "n.compile(loss='sparse_categorical_crossentropy',optimizer='adam',metrics=['acc'])\n",
    "\n",
    "h2=n.fit(X_train,y_train, epochs=5, verbose=True, validation_data=(X_test,y_test), batch_size=256)"
   ]
  },
  {
   "cell_type": "code",
   "execution_count": 15,
   "metadata": {},
   "outputs": [
    {
     "name": "stdout",
     "output_type": "stream",
     "text": [
      "Actual Prediction 4 Predicted Prediction [2]\n"
     ]
    }
   ],
   "source": [
    "x=n.predict_classes(X_test[[4],:])\n",
    "print(\"Actual Prediction\",y_test[4],\"Predicted Prediction\",x)"
   ]
  },
  {
   "cell_type": "code",
   "execution_count": 16,
   "metadata": {},
   "outputs": [
    {
     "data": {
      "image/png": "[encoded data removed]",
      "text/plain": [
       "<Figure size 432x288 with 1 Axes>"
      ]
     },
     "metadata": {
      "needs_background": "light"
     },
     "output_type": "display_data"
    },
    {
     "data": {
      "image/png": "[encoded data removed]",
      "text/plain": [
       "<Figure size 432x288 with 1 Axes>"
      ]
     },
     "metadata": {
      "needs_background": "light"
     },
     "output_type": "display_data"
    }
   ],
   "source": [
    "import matplotlib.pyplot as plt\n",
    "# summarize history for accuracy\n",
    "plt.plot(history1.history['acc'])\n",
    "plt.plot(history1.history['val_acc'])\n",
    "plt.title('model accuracy')\n",
    "plt.ylabel('accuracy')\n",
    "plt.xlabel('epoch')\n",
    "plt.legend(['train', 'test'], loc='upper left')\n",
    "plt.show()\n",
    "# summarize history for loss\n",
    "plt.plot(history1.history['loss'])\n",
    "plt.plot(history1.history['val_loss'])\n",
    "plt.title('model loss')\n",
    "plt.ylabel('loss')\n",
    "plt.xlabel('epoch')\n",
    "plt.legend(['train', 'test'], loc='upper right')\n",
    "plt.show()"
   ]
  },
  {
   "cell_type": "code",
   "execution_count": null,
   "metadata": {},
   "outputs": [],
   "source": []
  }
 ],
 "metadata": {
  "kernelspec": {
   "display_name": "Python 3",
   "language": "python",
   "name": "python3"
  },
  "language_info": {
   "codemirror_mode": {
    "name": "ipython",
    "version": 3
   },
   "file_extension": ".py",
   "mimetype": "text/x-python",
   "name": "python",
   "nbconvert_exporter": "python",
   "pygments_lexer": "ipython3",
   "version": "3.7.6"
  }
 },
 "nbformat": 4,
 "nbformat_minor": 4
}
