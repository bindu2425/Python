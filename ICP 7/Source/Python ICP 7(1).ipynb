{
 "cells": [
  {
   "cell_type": "code",
   "execution_count": 3,
   "metadata": {},
   "outputs": [
    {
     "name": "stdout",
     "output_type": "stream",
     "text": [
      "TfidfVectorizer score: 0.7738980350504514\n",
      "TfidfVectorizer score: 0.7738980350504514\n",
      "TfidfVectorizer score with ngram: 0.765400955921402\n",
      "TfidfVectorizer score with english stop words: 0.8169144981412639\n"
     ]
    }
   ],
   "source": [
    "\n",
    "from sklearn.datasets import fetch_20newsgroups\n",
    "\n",
    "from sklearn.feature_extraction.text import CountVectorizer, TfidfVectorizer\n",
    "from sklearn.feature_extraction.text import TfidfTransformer\n",
    "from sklearn import metrics\n",
    "from sklearn.pipeline import Pipeline\n",
    "from sklearn.naive_bayes import MultinomialNB\n",
    "\n",
    "twenty_train = fetch_20newsgroups(subset='train', shuffle=True)\n",
    "\n",
    "#change the tfidfvectorizer to use bigram \n",
    "tfidf_Vect = TfidfVectorizer()\n",
    "tfidf_Vect1 = TfidfVectorizer(ngram_range=(1, 2))\n",
    "tfidf_Vect2 = TfidfVectorizer(stop_words='english')\n",
    "\n",
    "X_train_tfidf = tfidf_Vect.fit_transform(twenty_train.data)\n",
    "X_train_tfidf1 = tfidf_Vect1.fit_transform(twenty_train.data)\n",
    "X_train_tfidf2 = tfidf_Vect2.fit_transform(twenty_train.data)\n",
    "\n",
    "\n",
    "# print(tfidf_Vect.vocabulary_)\n",
    "clf = MultinomialNB()\n",
    "clf.fit(X_train_tfidf, twenty_train.target)\n",
    "\n",
    "twenty_test = fetch_20newsgroups(subset='test', shuffle=True)\n",
    "X_test_tfidf = tfidf_Vect.transform(twenty_test.data)\n",
    "\n",
    "predicted = clf.predict(X_test_tfidf)\n",
    "\n",
    "score = metrics.accuracy_score(twenty_test.target, predicted)\n",
    "print(\"TfidfVectorizer score: \" + str(score))\n",
    "\n",
    "#score for X_train_tfidf1\n",
    "clf1 = MultinomialNB()\n",
    "clf1.fit(X_train_tfidf1, twenty_train.target)\n",
    "twenty_test = fetch_20newsgroups(subset='test', shuffle=True)\n",
    "X_test_tfidf = tfidf_Vect.transform(twenty_test.data)\n",
    "\n",
    "predicted = clf.predict(X_test_tfidf)\n",
    "\n",
    "score = metrics.accuracy_score(twenty_test.target, predicted)\n",
    "print(\"TfidfVectorizer score: \" + str(score))\n",
    "\n",
    "#score for X_train_tfidf1\n",
    "clf1 = MultinomialNB()\n",
    "clf1.fit(X_train_tfidf1, twenty_train.target)\n",
    "\n",
    "twenty_test = fetch_20newsgroups(subset='test', shuffle=True)\n",
    "X_test_tfidf1 = tfidf_Vect1.transform(twenty_test.data)\n",
    "\n",
    "predicted1 = clf1.predict(X_test_tfidf1)\n",
    "\n",
    "score1 = metrics.accuracy_score(twenty_test.target, predicted1)\n",
    "print(\"TfidfVectorizer score with ngram: \" + str(score1))\n",
    "\n",
    "\n",
    "#score for X_train_tfidf2\n",
    "clf2 = MultinomialNB()\n",
    "clf2.fit(X_train_tfidf2, twenty_train.target)\n",
    "\n",
    "twenty_test = fetch_20newsgroups(subset='test', shuffle=True)\n",
    "X_test_tfidf2 = tfidf_Vect2.transform(twenty_test.data)\n",
    "\n",
    "predicted2 = clf2.predict(X_test_tfidf2)\n",
    "\n",
    "score3 = metrics.accuracy_score(twenty_test.target, predicted2)\n",
    "print(\"TfidfVectorizer score with english stop words: \" + str(score3))"
   ]
  },
  {
   "cell_type": "code",
   "execution_count": null,
   "metadata": {},
   "outputs": [],
   "source": []
  }
 ],
 "metadata": {
  "kernelspec": {
   "display_name": "Python 3",
   "language": "python",
   "name": "python3"
  },
  "language_info": {
   "codemirror_mode": {
    "name": "ipython",
    "version": 3
   },
   "file_extension": ".py",
   "mimetype": "text/x-python",
   "name": "python",
   "nbconvert_exporter": "python",
   "pygments_lexer": "ipython3",
   "version": "3.7.6"
  }
 },
 "nbformat": 4,
 "nbformat_minor": 4
}
