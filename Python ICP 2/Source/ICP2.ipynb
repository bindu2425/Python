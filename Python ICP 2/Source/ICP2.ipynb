{
 "cells": [
  {
   "cell_type": "code",
   "execution_count": 1,
   "metadata": {},
   "outputs": [
    {
     "name": "stdout",
     "output_type": "stream",
     "text": [
      "enter number of students for weights to converted:3\n",
      "enter student0 weight in lbs:101\n",
      "enter student1 weight in lbs:111\n",
      "enter student2 weight in lbs:121\n",
      "[101, 111, 121]\n",
      "weights in kgs:[45.812792, 50.348712, 54.884631999999996]\n",
      "[45.812792, 50.348712, 54.884631999999996]\n"
     ]
    }
   ],
   "source": [
    "numOfStudentsFromUser = input(\"enter number of students for weights to converted:\")\n",
    "numOfStudents = int(numOfStudentsFromUser)\n",
    "weight_list = []\n",
    "for i in range(numOfStudents):\n",
    "    weight = input(\"enter student\" + str(i) + \" weight in lbs:\")\n",
    "    try:\n",
    "     weightinInt = int(weight)\n",
    "     weight_list.append(weightinInt)\n",
    "    except:\n",
    "        print(\"enter an integer\")\n",
    "print(weight_list)\n",
    "weght_list_kgs = []\n",
    "for weight in weight_list:\n",
    "    weight_kg = weight * 0.453592\n",
    "    weght_list_kgs.append(weight_kg)\n",
    "print(\"weights in kgs:\" + str(weght_list_kgs))\n",
    "#list comprehension\n",
    "WeightKgs=[i*0.453592 for i in weight_list]\n",
    "print(WeightKgs)"
   ]
  },
  {
   "cell_type": "code",
   "execution_count": 2,
   "metadata": {},
   "outputs": [
    {
     "name": "stdout",
     "output_type": "stream",
     "text": [
      "Enter a string=Hello Queen\n",
      "HloQen\n"
     ]
    }
   ],
   "source": [
    "def string_alternative(inputString):\n",
    " print(inputString[::2]) #return from begining to position 2\n",
    "\n",
    "if __name__ == \"__main__\":\n",
    "  inputString = input(\"Enter a string=\")\n",
    "  string_alternative(inputString)"
   ]
  },
  {
   "cell_type": "code",
   "execution_count": 3,
   "metadata": {},
   "outputs": [
    {
     "name": "stdout",
     "output_type": "stream",
     "text": [
      "{'Hello': 1, 'world': 1, 'I': 1, 'am': 1, 'Bindu': 1}\n"
     ]
    }
   ],
   "source": [
    "from collections import Counter\n",
    "with open('C:/Users/likhi/Desktop/bindu.txt', 'r') as file:\n",
    "    data = file.read().replace('\\n', ' ')\n",
    "d = dict(Counter(data.split()))\n",
    "print(d)\n",
    "\n",
    "with open('OuptutFilePython.txt', 'w') as file:\n",
    "    file.write(str(d))"
   ]
  },
  {
   "cell_type": "code",
   "execution_count": 6,
   "metadata": {},
   "outputs": [
    {
     "name": "stdout",
     "output_type": "stream",
     "text": [
      "{'hello': 1, 'world': 1, 'i': 1, 'am': 1, 'bindu': 1}\n"
     ]
    }
   ],
   "source": [
    "    outPut = {}\n",
    "    with open('C:/Users/likhi/Desktop/bindu.txt', 'r') as file:\n",
    "        for l in file:\n",
    "            wordlist = l.split()\n",
    "            for word in wordlist:\n",
    "                if word.lower() in outPut:\n",
    "                    outPut[word.lower()] += 1\n",
    "                else:\n",
    "                    outPut[word.lower()] = 1\n",
    "    print(outPut)\n",
    "    wordfile = open('textfile.txt', 'w')\n",
    "    for key, val in outPut.items():\n",
    "        wordfile.write(\"{} {}\\n\".format(key, val))\n",
    "    wordfile.close()"
   ]
  },
  {
   "cell_type": "code",
   "execution_count": null,
   "metadata": {},
   "outputs": [],
   "source": []
  }
 ],
 "metadata": {
  "kernelspec": {
   "display_name": "Python 3",
   "language": "python",
   "name": "python3"
  },
  "language_info": {
   "codemirror_mode": {
    "name": "ipython",
    "version": 3
   },
   "file_extension": ".py",
   "mimetype": "text/x-python",
   "name": "python",
   "nbconvert_exporter": "python",
   "pygments_lexer": "ipython3",
   "version": "3.7.6"
  }
 },
 "nbformat": 4,
 "nbformat_minor": 4
}
